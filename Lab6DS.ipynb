{
 "cells": [
  {
   "cell_type": "markdown",
   "id": "eecf8f83",
   "metadata": {},
   "source": [
    "# Laboratorio 6"
   ]
  },
  {
   "cell_type": "markdown",
   "id": "5b9997ee",
   "metadata": {},
   "source": [
    "# Analisis de Redes Sociales"
   ]
  },
  {
   "cell_type": "markdown",
   "id": "04fe135a",
   "metadata": {},
   "source": [
    "### Cristina Bautista 161260\n",
    "### Andy Castillo 18040\n",
    "### Marco Fuentes 18188\n",
    "### Abril Palencia 18198"
   ]
  },
  {
   "cell_type": "markdown",
   "id": "e8085965",
   "metadata": {},
   "source": [
    "## Problema 4"
   ]
  },
  {
   "cell_type": "markdown",
   "id": "c349c24e",
   "metadata": {},
   "source": [
    "### Descarga, carga - Cristina y Andy"
   ]
  },
  {
   "cell_type": "markdown",
   "id": "4d718539",
   "metadata": {},
   "source": [
    "### Preprosecamiento - Cristina"
   ]
  },
  {
   "cell_type": "markdown",
   "id": "8fa0b7ad",
   "metadata": {},
   "source": [
    "### Analisis - Marco y Abril"
   ]
  },
  {
   "cell_type": "markdown",
   "id": "6dcf0b78",
   "metadata": {},
   "source": [
    "### Conclusiones - Andy"
   ]
  },
  {
   "cell_type": "code",
   "execution_count": null,
   "id": "c9044b1f",
   "metadata": {},
   "outputs": [],
   "source": []
  }
 ],
 "metadata": {
  "kernelspec": {
   "display_name": "Python 3",
   "language": "python",
   "name": "python3"
  },
  "language_info": {
   "codemirror_mode": {
    "name": "ipython",
    "version": 3
   },
   "file_extension": ".py",
   "mimetype": "text/x-python",
   "name": "python",
   "nbconvert_exporter": "python",
   "pygments_lexer": "ipython3",
   "version": "3.8.8"
  }
 },
 "nbformat": 4,
 "nbformat_minor": 5
}
