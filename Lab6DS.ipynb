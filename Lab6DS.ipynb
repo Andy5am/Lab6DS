{
 "cells": [
  {
   "cell_type": "markdown",
   "metadata": {},
   "source": [
    "# Laboratorio 6"
   ]
  },
  {
   "cell_type": "markdown",
   "metadata": {},
   "source": [
    "# Analisis de Redes Sociales"
   ]
  },
  {
   "cell_type": "markdown",
   "metadata": {},
   "source": [
    "### Cristina Bautista 161260\n",
    "### Andy Castillo 18040\n",
    "### Marco Fuentes 18188\n",
    "### Abril Palencia 18198"
   ]
  },
  {
   "cell_type": "markdown",
   "metadata": {},
   "source": [
    "## Problema 4"
   ]
  },
  {
   "cell_type": "markdown",
   "metadata": {},
   "source": [
    "### Descarga, carga - Cristina y Andy"
   ]
  },
  {
   "cell_type": "markdown",
   "metadata": {},
   "source": [
    "### Preprosecamiento - Cristina"
   ]
  },
  {
   "cell_type": "markdown",
   "metadata": {},
   "source": [
    "### Analisis - Marco y Abril"
   ]
  },
  {
   "cell_type": "markdown",
   "metadata": {},
   "source": [
    "### Conclusiones - Andy"
   ]
  },
  {
   "cell_type": "code",
   "execution_count": 1,
   "metadata": {},
   "outputs": [],
   "source": [
    "import numpy as np\n",
    "import pandas as pd"
   ]
  },
  {
   "cell_type": "code",
   "execution_count": 2,
   "metadata": {},
   "outputs": [
    {
     "name": "stderr",
     "output_type": "stream",
     "text": [
      "[nltk_data] Downloading package stopwords to\n",
      "[nltk_data]     /Users/cristinabautista/nltk_data...\n",
      "[nltk_data]   Package stopwords is already up-to-date!\n",
      "[nltk_data] Downloading package punkt to\n",
      "[nltk_data]     /Users/cristinabautista/nltk_data...\n",
      "[nltk_data]   Package punkt is already up-to-date!\n"
     ]
    },
    {
     "data": {
      "text/plain": [
       "True"
      ]
     },
     "execution_count": 2,
     "metadata": {},
     "output_type": "execute_result"
    }
   ],
   "source": [
    "import nltk\n",
    "from nltk.corpus import stopwords\n",
    "from nltk.classify import SklearnClassifier\n",
    "from nltk import sent_tokenize, word_tokenize, pos_tag\n",
    "from nltk.tokenize import RegexpTokenizer\n",
    "from nltk.stem import WordNetLemmatizer, PorterStemmer\n",
    "from nltk import FreqDist\n",
    "nltk.download('stopwords')\n",
    "nltk.download('punkt')"
   ]
  },
  {
   "cell_type": "code",
   "execution_count": 3,
   "metadata": {},
   "outputs": [],
   "source": [
    "data = pd.read_csv('problema5_tweets.csv')"
   ]
  },
  {
   "cell_type": "code",
   "execution_count": 4,
   "metadata": {},
   "outputs": [
    {
     "data": {
      "text/html": [
       "<div>\n",
       "<style scoped>\n",
       "    .dataframe tbody tr th:only-of-type {\n",
       "        vertical-align: middle;\n",
       "    }\n",
       "\n",
       "    .dataframe tbody tr th {\n",
       "        vertical-align: top;\n",
       "    }\n",
       "\n",
       "    .dataframe thead th {\n",
       "        text-align: right;\n",
       "    }\n",
       "</style>\n",
       "<table border=\"1\" class=\"dataframe\">\n",
       "  <thead>\n",
       "    <tr style=\"text-align: right;\">\n",
       "      <th></th>\n",
       "      <th>Tweet Id</th>\n",
       "      <th>Text</th>\n",
       "      <th>Name</th>\n",
       "      <th>Screen Name</th>\n",
       "      <th>UTC</th>\n",
       "      <th>Created At</th>\n",
       "      <th>Favorites</th>\n",
       "      <th>Retweets</th>\n",
       "      <th>Language</th>\n",
       "      <th>Client</th>\n",
       "      <th>Tweet Type</th>\n",
       "      <th>URLs</th>\n",
       "      <th>Hashtags</th>\n",
       "      <th>Mentions</th>\n",
       "      <th>Media Type</th>\n",
       "      <th>Media URLs</th>\n",
       "      <th>Unnamed: 16</th>\n",
       "      <th>Unnamed: 17</th>\n",
       "      <th>Unnamed: 18</th>\n",
       "    </tr>\n",
       "  </thead>\n",
       "  <tbody>\n",
       "    <tr>\n",
       "      <td>0</td>\n",
       "      <td>1433971287811108869</td>\n",
       "      <td>@prensa_libre 👎👎🥚🥚🤮🤮💩💩🐀🐀🐀🐀pira corrupción #Ren...</td>\n",
       "      <td>Aura Perez</td>\n",
       "      <td>AuraPer75486154</td>\n",
       "      <td>2021-09-04T01:52:51.000Z</td>\n",
       "      <td>Sat Sep 04 01:52:51 +0000 2021</td>\n",
       "      <td>0</td>\n",
       "      <td>0</td>\n",
       "      <td>es</td>\n",
       "      <td>&lt;a href=\"http://twitter.com/download/android\" ...</td>\n",
       "      <td>Reply</td>\n",
       "      <td>NaN</td>\n",
       "      <td>2</td>\n",
       "      <td>1</td>\n",
       "      <td>NaN</td>\n",
       "      <td>NaN</td>\n",
       "      <td>NaN</td>\n",
       "      <td>NaN</td>\n",
       "      <td>NaN</td>\n",
       "    </tr>\n",
       "    <tr>\n",
       "      <td>1</td>\n",
       "      <td>1433971126389153794</td>\n",
       "      <td>@Factor4_GT @EmilianoCS @EFEnoticias @opsoms #...</td>\n",
       "      <td>Aura Perez</td>\n",
       "      <td>AuraPer75486154</td>\n",
       "      <td>2021-09-04T01:52:13.000Z</td>\n",
       "      <td>Sat Sep 04 01:52:13 +0000 2021</td>\n",
       "      <td>0</td>\n",
       "      <td>0</td>\n",
       "      <td>und</td>\n",
       "      <td>&lt;a href=\"http://twitter.com/download/android\" ...</td>\n",
       "      <td>Reply</td>\n",
       "      <td>NaN</td>\n",
       "      <td>3</td>\n",
       "      <td>4</td>\n",
       "      <td>NaN</td>\n",
       "      <td>NaN</td>\n",
       "      <td>NaN</td>\n",
       "      <td>NaN</td>\n",
       "      <td>NaN</td>\n",
       "    </tr>\n",
       "    <tr>\n",
       "      <td>2</td>\n",
       "      <td>1433970899800240131</td>\n",
       "      <td>@AlianzaRgt 👎👎💩💩🥚🥚🤮🤮🤮🤮💩💩#Renuncia desconsuelo ...</td>\n",
       "      <td>Aura Perez</td>\n",
       "      <td>AuraPer75486154</td>\n",
       "      <td>2021-09-04T01:51:19.000Z</td>\n",
       "      <td>Sat Sep 04 01:51:19 +0000 2021</td>\n",
       "      <td>0</td>\n",
       "      <td>0</td>\n",
       "      <td>es</td>\n",
       "      <td>&lt;a href=\"http://twitter.com/download/android\" ...</td>\n",
       "      <td>Reply</td>\n",
       "      <td>NaN</td>\n",
       "      <td>2</td>\n",
       "      <td>1</td>\n",
       "      <td>NaN</td>\n",
       "      <td>NaN</td>\n",
       "      <td>NaN</td>\n",
       "      <td>NaN</td>\n",
       "      <td>NaN</td>\n",
       "    </tr>\n",
       "    <tr>\n",
       "      <td>3</td>\n",
       "      <td>1433965107751620610</td>\n",
       "      <td>@el_Periodico Que desgracia desgobierno maldit...</td>\n",
       "      <td>Aura Perez</td>\n",
       "      <td>AuraPer75486154</td>\n",
       "      <td>2021-09-04T01:28:18.000Z</td>\n",
       "      <td>Sat Sep 04 01:28:18 +0000 2021</td>\n",
       "      <td>0</td>\n",
       "      <td>0</td>\n",
       "      <td>es</td>\n",
       "      <td>&lt;a href=\"http://twitter.com/download/android\" ...</td>\n",
       "      <td>Reply</td>\n",
       "      <td>NaN</td>\n",
       "      <td>4</td>\n",
       "      <td>1</td>\n",
       "      <td>NaN</td>\n",
       "      <td>NaN</td>\n",
       "      <td>NaN</td>\n",
       "      <td>NaN</td>\n",
       "      <td>NaN</td>\n",
       "    </tr>\n",
       "    <tr>\n",
       "      <td>4</td>\n",
       "      <td>1433964253531226114</td>\n",
       "      <td>@prensa_libre #RenunciaGiamattei #RenunciaCons...</td>\n",
       "      <td>Aura Perez</td>\n",
       "      <td>AuraPer75486154</td>\n",
       "      <td>2021-09-04T01:24:54.000Z</td>\n",
       "      <td>Sat Sep 04 01:24:54 +0000 2021</td>\n",
       "      <td>0</td>\n",
       "      <td>0</td>\n",
       "      <td>und</td>\n",
       "      <td>&lt;a href=\"http://twitter.com/download/android\" ...</td>\n",
       "      <td>Reply</td>\n",
       "      <td>NaN</td>\n",
       "      <td>3</td>\n",
       "      <td>1</td>\n",
       "      <td>NaN</td>\n",
       "      <td>NaN</td>\n",
       "      <td>NaN</td>\n",
       "      <td>NaN</td>\n",
       "      <td>NaN</td>\n",
       "    </tr>\n",
       "  </tbody>\n",
       "</table>\n",
       "</div>"
      ],
      "text/plain": [
       "              Tweet Id                                               Text  \\\n",
       "0  1433971287811108869  @prensa_libre 👎👎🥚🥚🤮🤮💩💩🐀🐀🐀🐀pira corrupción #Ren...   \n",
       "1  1433971126389153794  @Factor4_GT @EmilianoCS @EFEnoticias @opsoms #...   \n",
       "2  1433970899800240131  @AlianzaRgt 👎👎💩💩🥚🥚🤮🤮🤮🤮💩💩#Renuncia desconsuelo ...   \n",
       "3  1433965107751620610  @el_Periodico Que desgracia desgobierno maldit...   \n",
       "4  1433964253531226114  @prensa_libre #RenunciaGiamattei #RenunciaCons...   \n",
       "\n",
       "         Name      Screen Name                       UTC  \\\n",
       "0  Aura Perez  AuraPer75486154  2021-09-04T01:52:51.000Z   \n",
       "1  Aura Perez  AuraPer75486154  2021-09-04T01:52:13.000Z   \n",
       "2  Aura Perez  AuraPer75486154  2021-09-04T01:51:19.000Z   \n",
       "3  Aura Perez  AuraPer75486154  2021-09-04T01:28:18.000Z   \n",
       "4  Aura Perez  AuraPer75486154  2021-09-04T01:24:54.000Z   \n",
       "\n",
       "                       Created At  Favorites  Retweets Language  \\\n",
       "0  Sat Sep 04 01:52:51 +0000 2021          0         0       es   \n",
       "1  Sat Sep 04 01:52:13 +0000 2021          0         0      und   \n",
       "2  Sat Sep 04 01:51:19 +0000 2021          0         0       es   \n",
       "3  Sat Sep 04 01:28:18 +0000 2021          0         0       es   \n",
       "4  Sat Sep 04 01:24:54 +0000 2021          0         0      und   \n",
       "\n",
       "                                              Client Tweet Type URLs  \\\n",
       "0  <a href=\"http://twitter.com/download/android\" ...      Reply  NaN   \n",
       "1  <a href=\"http://twitter.com/download/android\" ...      Reply  NaN   \n",
       "2  <a href=\"http://twitter.com/download/android\" ...      Reply  NaN   \n",
       "3  <a href=\"http://twitter.com/download/android\" ...      Reply  NaN   \n",
       "4  <a href=\"http://twitter.com/download/android\" ...      Reply  NaN   \n",
       "\n",
       "   Hashtags  Mentions Media Type Media URLs Unnamed: 16 Unnamed: 17  \\\n",
       "0         2         1        NaN        NaN         NaN         NaN   \n",
       "1         3         4        NaN        NaN         NaN         NaN   \n",
       "2         2         1        NaN        NaN         NaN         NaN   \n",
       "3         4         1        NaN        NaN         NaN         NaN   \n",
       "4         3         1        NaN        NaN         NaN         NaN   \n",
       "\n",
       "  Unnamed: 18  \n",
       "0         NaN  \n",
       "1         NaN  \n",
       "2         NaN  \n",
       "3         NaN  \n",
       "4         NaN  "
      ]
     },
     "execution_count": 4,
     "metadata": {},
     "output_type": "execute_result"
    }
   ],
   "source": [
    "data.head()"
   ]
  },
  {
   "cell_type": "code",
   "execution_count": null,
   "metadata": {},
   "outputs": [],
   "source": []
  }
 ],
 "metadata": {
  "kernelspec": {
   "display_name": "Python 3",
   "language": "python",
   "name": "python3"
  },
  "language_info": {
   "codemirror_mode": {
    "name": "ipython",
    "version": 3
   },
   "file_extension": ".py",
   "mimetype": "text/x-python",
   "name": "python",
   "nbconvert_exporter": "python",
   "pygments_lexer": "ipython3",
   "version": "3.7.4"
  }
 },
 "nbformat": 4,
 "nbformat_minor": 5
}
